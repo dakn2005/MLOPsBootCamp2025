{
 "cells": [
  {
   "cell_type": "markdown",
   "id": "d454b1c5",
   "metadata": {},
   "source": [
    "## Experiment Tracking"
   ]
  },
  {
   "cell_type": "markdown",
   "id": "2572b742",
   "metadata": {},
   "source": [
    "#### Q1. Install MLflow"
   ]
  },
  {
   "cell_type": "code",
   "execution_count": 1,
   "id": "6d9d1c1f",
   "metadata": {},
   "outputs": [
    {
     "name": "stdout",
     "output_type": "stream",
     "text": [
      "mlflow, version 2.22.0\n"
     ]
    }
   ],
   "source": [
    "import mlflow\n",
    "\n",
    "!mlflow --version"
   ]
  },
  {
   "cell_type": "markdown",
   "id": "45ca6ad0",
   "metadata": {},
   "source": [
    "#### Q2. Download and preprocess the data\n",
    "\n",
    "Use the command below with the relevant file names:\n",
    "\n",
    "wget https://d37ci6vzurychx.cloudfront.net/trip-data/yellow_tripdata_2023-01.parquet\n",
    "\n",
    "files in the output folder:\n",
    "4\n"
   ]
  },
  {
   "cell_type": "markdown",
   "id": "d94ed1e9",
   "metadata": {},
   "source": [
    "#### Q3. Train a model with autolog\n",
    "\n",
    "What is the value of the min_samples_split parameter: 2"
   ]
  },
  {
   "cell_type": "markdown",
   "id": "59d04cbc",
   "metadata": {},
   "source": [
    "#### Q4. Launch the tracking server locally\n",
    "\n",
    "In addition to backend-store-uri, what else do you need to pass to properly configure mlflow server?\n",
    "\n",
    "default-artifact-root"
   ]
  },
  {
   "cell_type": "markdown",
   "id": "eb075cc0",
   "metadata": {},
   "source": [
    "#### Q5. Tune model hyperparameters\n",
    "\n",
    "What's the best validation RMSE that you got? \n",
    "\n",
    "5.037464215926993 hence nearer to answer 'a.' (4.817)\n",
    "\n"
   ]
  },
  {
   "cell_type": "markdown",
   "id": "f7a4d67a",
   "metadata": {},
   "source": [
    "#### Q6. Promote the best model to the model registry\n",
    "\n",
    "\n"
   ]
  }
 ],
 "metadata": {
  "kernelspec": {
   "display_name": "Python 3",
   "language": "python",
   "name": "python3"
  },
  "language_info": {
   "codemirror_mode": {
    "name": "ipython",
    "version": 3
   },
   "file_extension": ".py",
   "mimetype": "text/x-python",
   "name": "python",
   "nbconvert_exporter": "python",
   "pygments_lexer": "ipython3",
   "version": "3.12.1"
  }
 },
 "nbformat": 4,
 "nbformat_minor": 5
}
