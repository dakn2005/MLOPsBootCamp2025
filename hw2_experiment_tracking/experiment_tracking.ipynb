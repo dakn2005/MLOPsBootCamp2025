{
 "cells": [
  {
   "cell_type": "markdown",
   "id": "d454b1c5",
   "metadata": {},
   "source": [
    "## Experiment Tracking"
   ]
  },
  {
   "cell_type": "markdown",
   "id": "2572b742",
   "metadata": {},
   "source": [
    "#### Q1. Install MLflow"
   ]
  },
  {
   "cell_type": "code",
   "execution_count": 4,
   "id": "6d9d1c1f",
   "metadata": {},
   "outputs": [
    {
     "name": "stdout",
     "output_type": "stream",
     "text": [
      "mlflow, version 2.22.0\n"
     ]
    }
   ],
   "source": [
    "import mlflow\n",
    "\n",
    "!mlflow --version"
   ]
  },
  {
   "cell_type": "markdown",
   "id": "45ca6ad0",
   "metadata": {},
   "source": [
    "#### Q2. Download and preprocess the data\n",
    "\n",
    "Use the command below with the relevant file names:\n",
    "\n",
    "wget https://d37ci6vzurychx.cloudfront.net/trip-data/yellow_tripdata_2023-01.parquet\n",
    "\n",
    "files in the output folder:\n",
    "4\n"
   ]
  },
  {
   "cell_type": "markdown",
   "id": "d94ed1e9",
   "metadata": {},
   "source": [
    "#### Q3. Train a model with autolog\n",
    "\n"
   ]
  },
  {
   "cell_type": "code",
   "execution_count": 5,
   "id": "b8c3ef36",
   "metadata": {},
   "outputs": [],
   "source": [
    "import os\n",
    "import pickle\n",
    "import click\n",
    "import mlflow\n",
    "\n",
    "import mlflow.sklearn\n",
    "import mlflow.sklearn\n",
    "from sklearn.ensemble import RandomForestRegressor\n",
    "from sklearn.metrics import root_mean_squared_error"
   ]
  },
  {
   "cell_type": "code",
   "execution_count": 6,
   "id": "4692a474",
   "metadata": {},
   "outputs": [],
   "source": [
    "def load_pickle(filename: str):\n",
    "    with open(filename, \"rb\") as f_in:\n",
    "        return pickle.load(f_in)\n"
   ]
  },
  {
   "cell_type": "code",
   "execution_count": 8,
   "id": "54a5a587",
   "metadata": {},
   "outputs": [
    {
     "ename": "",
     "evalue": "",
     "output_type": "error",
     "traceback": [
      "\u001b[1;31mThe Kernel crashed while executing code in the current cell or a previous cell. \n",
      "\u001b[1;31mPlease review the code in the cell(s) to identify a possible cause of the failure. \n",
      "\u001b[1;31mClick <a href='https://aka.ms/vscodeJupyterKernelCrash'>here</a> for more info. \n",
      "\u001b[1;31mView Jupyter <a href='command:jupyter.viewOutput'>log</a> for further details."
     ]
    }
   ],
   "source": [
    "# @click.command()\n",
    "# @click.option(\n",
    "#     \"--data_path\",\n",
    "#     default=\"./output\",\n",
    "#     help=\"Location where the processed NYC taxi trip data was saved\"\n",
    "# )\n",
    "def run_train(data_path: str = \"./output\"):\n",
    "    mlflow.sklearn.autolog()\n",
    "\n",
    "    with mlflow.start_run():\n",
    "\n",
    "        mlflow.set_tag(\"developer\", \"David\")\n",
    "        mlflow.set_tag('model', 'RandomForestRegressor')\n",
    "        # mlflow.set_de('algorithm', 'lasso')\n",
    "        mlflow.log_param(\"train-data-path\", \"./data/yellow_tripdata_2023-01.parquet\")\n",
    "        mlflow.log_param(\"valid-data-path\", \"./data/yellow_tripdata_2023-02.parquet\")\n",
    "        mlflow.log_param(\"test-data-path\", \"./data/yellow_tripdata_2023-03.parquet\")\n",
    "\n",
    "        X_train, y_train = load_pickle(os.path.join(data_path, \"train.pkl\"))\n",
    "        X_val, y_val = load_pickle(os.path.join(data_path, \"val.pkl\"))\n",
    "\n",
    "        rf = RandomForestRegressor(max_depth=10, random_state=0)\n",
    "        rf.fit(X_train, y_train)\n",
    "        y_pred = rf.predict(X_val)\n",
    "\n",
    "        rmse = root_mean_squared_error(y_val, y_pred)\n",
    "\n",
    "        mlflow.log_metric(\"rmse\", rmse)\n",
    "\n",
    "        mlflow.sklearn.log_model(rf, artifact_path=\"models_mlflow\")\n",
    "\n",
    "run_train()"
   ]
  }
 ],
 "metadata": {
  "kernelspec": {
   "display_name": ".venv",
   "language": "python",
   "name": "python3"
  },
  "language_info": {
   "codemirror_mode": {
    "name": "ipython",
    "version": 3
   },
   "file_extension": ".py",
   "mimetype": "text/x-python",
   "name": "python",
   "nbconvert_exporter": "python",
   "pygments_lexer": "ipython3",
   "version": "3.12.9"
  }
 },
 "nbformat": 4,
 "nbformat_minor": 5
}
