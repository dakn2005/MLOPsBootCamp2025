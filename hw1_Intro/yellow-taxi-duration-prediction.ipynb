{
 "cells": [
  {
   "cell_type": "code",
   "execution_count": 1,
   "id": "b2bd82d7",
   "metadata": {},
   "outputs": [
    {
     "name": "stdout",
     "output_type": "stream",
     "text": [
      "Python 3.12.9\n"
     ]
    }
   ],
   "source": [
    "!python -V"
   ]
  },
  {
   "cell_type": "code",
   "execution_count": 2,
   "id": "41062d8a",
   "metadata": {},
   "outputs": [],
   "source": [
    "import pandas as pd"
   ]
  },
  {
   "cell_type": "code",
   "execution_count": 3,
   "id": "c984c564",
   "metadata": {},
   "outputs": [],
   "source": [
    "import pickle"
   ]
  },
  {
   "cell_type": "code",
   "execution_count": 4,
   "id": "4add538c",
   "metadata": {},
   "outputs": [],
   "source": [
    "import seaborn as sns\n",
    "import matplotlib.pyplot as plt"
   ]
  },
  {
   "cell_type": "code",
   "execution_count": 5,
   "id": "8b135c2b",
   "metadata": {},
   "outputs": [],
   "source": [
    "from sklearn.feature_extraction import DictVectorizer\n",
    "from sklearn.linear_model import LinearRegression\n",
    "from sklearn.linear_model import Lasso\n",
    "from sklearn.linear_model import Ridge\n",
    "\n",
    "from sklearn.metrics import root_mean_squared_error\n",
    "import numpy as np"
   ]
  },
  {
   "cell_type": "code",
   "execution_count": 6,
   "id": "8e013caf",
   "metadata": {},
   "outputs": [
    {
     "data": {
      "text/plain": [
       "19"
      ]
     },
     "execution_count": 6,
     "metadata": {},
     "output_type": "execute_result"
    }
   ],
   "source": [
    "df = pd.read_parquet('./data/yellow_tripdata_2023-01.parquet')\n",
    "\n",
    "len(df.columns)\n",
    "# df.dtypes"
   ]
  },
  {
   "cell_type": "code",
   "execution_count": 7,
   "id": "7efeb49a",
   "metadata": {},
   "outputs": [],
   "source": [
    "df['duration'] = df.tpep_dropoff_datetime - df.tpep_pickup_datetime\n",
    "df['duration'] = df.duration.apply(lambda td: td.total_seconds() / 60)"
   ]
  },
  {
   "cell_type": "code",
   "execution_count": 8,
   "id": "e2bd130f",
   "metadata": {},
   "outputs": [
    {
     "name": "stdout",
     "output_type": "stream",
     "text": [
      "Std Dev:  42.59434429744777\n"
     ]
    }
   ],
   "source": [
    "sd = np.std(df['duration'])\n",
    "print('Std Dev: ', sd)\n",
    "# print(df.dtypes)"
   ]
  },
  {
   "cell_type": "code",
   "execution_count": 9,
   "id": "64331fce",
   "metadata": {},
   "outputs": [
    {
     "data": {
      "text/plain": [
       "count    3.066766e+06\n",
       "mean     1.566900e+01\n",
       "std      4.259435e+01\n",
       "min     -2.920000e+01\n",
       "50%      1.151667e+01\n",
       "90%      2.794167e+01\n",
       "92%      3.055000e+01\n",
       "95%      3.646667e+01\n",
       "98%      4.873333e+01\n",
       "max      1.002918e+04\n",
       "Name: duration, dtype: float64"
      ]
     },
     "execution_count": 9,
     "metadata": {},
     "output_type": "execute_result"
    }
   ],
   "source": [
    "df['duration'].describe(percentiles=[.90, .92, .95, .98])"
   ]
  },
  {
   "cell_type": "code",
   "execution_count": 10,
   "id": "906cb080",
   "metadata": {},
   "outputs": [],
   "source": [
    "df = df[(df.duration >= 1) & (df.duration <= 60)]\n",
    "\n",
    "df['PULocationID'] = df['PULocationID'].astype(str)\n",
    "df['DOLocationID'] = df['DOLocationID'].astype(str)\n",
    "\n",
    "categories = ['PULocationID', 'DOLocationID']\n",
    "# df['PU_DO'] = df['PULocationID'].astype(str) + '_' + df['DOLocationID'].astype(str)\n",
    "\n",
    "onehot = df[categories].to_dict(orient='records')\n",
    "\n",
    "dv = DictVectorizer()\n",
    "X_train = dv.fit_transform(onehot)"
   ]
  },
  {
   "cell_type": "code",
   "execution_count": 11,
   "id": "1d69451e",
   "metadata": {},
   "outputs": [
    {
     "name": "stdout",
     "output_type": "stream",
     "text": [
      "(3009173, 515)\n",
      "VendorID                          int64\n",
      "tpep_pickup_datetime     datetime64[us]\n",
      "tpep_dropoff_datetime    datetime64[us]\n",
      "passenger_count                 float64\n",
      "trip_distance                   float64\n",
      "RatecodeID                      float64\n",
      "store_and_fwd_flag               object\n",
      "PULocationID                     object\n",
      "DOLocationID                     object\n",
      "payment_type                      int64\n",
      "fare_amount                     float64\n",
      "extra                           float64\n",
      "mta_tax                         float64\n",
      "tip_amount                      float64\n",
      "tolls_amount                    float64\n",
      "improvement_surcharge           float64\n",
      "total_amount                    float64\n",
      "congestion_surcharge            float64\n",
      "airport_fee                     float64\n",
      "duration                        float64\n",
      "dtype: object\n"
     ]
    }
   ],
   "source": [
    "print(X_train.shape)\n",
    "print(df.dtypes)"
   ]
  },
  {
   "cell_type": "code",
   "execution_count": 12,
   "id": "120d22a6",
   "metadata": {},
   "outputs": [
    {
     "name": "stdout",
     "output_type": "stream",
     "text": [
      "['DOLocationID=1', 'DOLocationID=10', 'DOLocationID=100', 'DOLocationID=101', 'DOLocationID=102', 'DOLocationID=106', 'DOLocationID=107', 'DOLocationID=108', 'DOLocationID=109', 'DOLocationID=11', 'DOLocationID=111', 'DOLocationID=112', 'DOLocationID=113', 'DOLocationID=114', 'DOLocationID=115', 'DOLocationID=116', 'DOLocationID=117', 'DOLocationID=118', 'DOLocationID=119', 'DOLocationID=12', 'DOLocationID=120', 'DOLocationID=121', 'DOLocationID=122', 'DOLocationID=123', 'DOLocationID=124', 'DOLocationID=125', 'DOLocationID=126', 'DOLocationID=127', 'DOLocationID=128', 'DOLocationID=129', 'DOLocationID=13', 'DOLocationID=130', 'DOLocationID=131', 'DOLocationID=132', 'DOLocationID=133', 'DOLocationID=134', 'DOLocationID=135', 'DOLocationID=136', 'DOLocationID=137', 'DOLocationID=138', 'DOLocationID=139', 'DOLocationID=14', 'DOLocationID=140', 'DOLocationID=141', 'DOLocationID=142', 'DOLocationID=143', 'DOLocationID=144', 'DOLocationID=145', 'DOLocationID=146', 'DOLocationID=147', 'DOLocationID=148', 'DOLocationID=149', 'DOLocationID=15', 'DOLocationID=150', 'DOLocationID=151', 'DOLocationID=152', 'DOLocationID=153', 'DOLocationID=154', 'DOLocationID=155', 'DOLocationID=156', 'DOLocationID=157', 'DOLocationID=158', 'DOLocationID=159', 'DOLocationID=16', 'DOLocationID=160', 'DOLocationID=161', 'DOLocationID=162', 'DOLocationID=163', 'DOLocationID=164', 'DOLocationID=165', 'DOLocationID=166', 'DOLocationID=167', 'DOLocationID=168', 'DOLocationID=169', 'DOLocationID=17', 'DOLocationID=170', 'DOLocationID=171', 'DOLocationID=172', 'DOLocationID=173', 'DOLocationID=174', 'DOLocationID=175', 'DOLocationID=176', 'DOLocationID=177', 'DOLocationID=178', 'DOLocationID=179', 'DOLocationID=18', 'DOLocationID=180', 'DOLocationID=181', 'DOLocationID=182', 'DOLocationID=183', 'DOLocationID=184', 'DOLocationID=185', 'DOLocationID=186', 'DOLocationID=187', 'DOLocationID=188', 'DOLocationID=189', 'DOLocationID=19', 'DOLocationID=190', 'DOLocationID=191', 'DOLocationID=192', 'DOLocationID=193', 'DOLocationID=194', 'DOLocationID=195', 'DOLocationID=196', 'DOLocationID=197', 'DOLocationID=198', 'DOLocationID=2', 'DOLocationID=20', 'DOLocationID=200', 'DOLocationID=201', 'DOLocationID=202', 'DOLocationID=203', 'DOLocationID=204', 'DOLocationID=205', 'DOLocationID=206', 'DOLocationID=207', 'DOLocationID=208', 'DOLocationID=209', 'DOLocationID=21', 'DOLocationID=210', 'DOLocationID=211', 'DOLocationID=212', 'DOLocationID=213', 'DOLocationID=214', 'DOLocationID=215', 'DOLocationID=216', 'DOLocationID=217', 'DOLocationID=218', 'DOLocationID=219', 'DOLocationID=22', 'DOLocationID=220', 'DOLocationID=221', 'DOLocationID=222', 'DOLocationID=223', 'DOLocationID=224', 'DOLocationID=225', 'DOLocationID=226', 'DOLocationID=227', 'DOLocationID=228', 'DOLocationID=229', 'DOLocationID=23', 'DOLocationID=230', 'DOLocationID=231', 'DOLocationID=232', 'DOLocationID=233', 'DOLocationID=234', 'DOLocationID=235', 'DOLocationID=236', 'DOLocationID=237', 'DOLocationID=238', 'DOLocationID=239', 'DOLocationID=24', 'DOLocationID=240', 'DOLocationID=241', 'DOLocationID=242', 'DOLocationID=243', 'DOLocationID=244', 'DOLocationID=245', 'DOLocationID=246', 'DOLocationID=247', 'DOLocationID=248', 'DOLocationID=249', 'DOLocationID=25', 'DOLocationID=250', 'DOLocationID=251', 'DOLocationID=252', 'DOLocationID=253', 'DOLocationID=254', 'DOLocationID=255', 'DOLocationID=256', 'DOLocationID=257', 'DOLocationID=258', 'DOLocationID=259', 'DOLocationID=26', 'DOLocationID=260', 'DOLocationID=261', 'DOLocationID=262', 'DOLocationID=263', 'DOLocationID=264', 'DOLocationID=265', 'DOLocationID=27', 'DOLocationID=28', 'DOLocationID=29', 'DOLocationID=3', 'DOLocationID=30', 'DOLocationID=31', 'DOLocationID=32', 'DOLocationID=33', 'DOLocationID=34', 'DOLocationID=35', 'DOLocationID=36', 'DOLocationID=37', 'DOLocationID=38', 'DOLocationID=39', 'DOLocationID=4', 'DOLocationID=40', 'DOLocationID=41', 'DOLocationID=42', 'DOLocationID=43', 'DOLocationID=44', 'DOLocationID=45', 'DOLocationID=46', 'DOLocationID=47', 'DOLocationID=48', 'DOLocationID=49', 'DOLocationID=5', 'DOLocationID=50', 'DOLocationID=51', 'DOLocationID=52', 'DOLocationID=53', 'DOLocationID=54', 'DOLocationID=55', 'DOLocationID=56', 'DOLocationID=57', 'DOLocationID=58', 'DOLocationID=59', 'DOLocationID=6', 'DOLocationID=60', 'DOLocationID=61', 'DOLocationID=62', 'DOLocationID=63', 'DOLocationID=64', 'DOLocationID=65', 'DOLocationID=66', 'DOLocationID=67', 'DOLocationID=68', 'DOLocationID=69', 'DOLocationID=7', 'DOLocationID=70', 'DOLocationID=71', 'DOLocationID=72', 'DOLocationID=73', 'DOLocationID=74', 'DOLocationID=75', 'DOLocationID=76', 'DOLocationID=77', 'DOLocationID=78', 'DOLocationID=79', 'DOLocationID=8', 'DOLocationID=80', 'DOLocationID=81', 'DOLocationID=82', 'DOLocationID=83', 'DOLocationID=84', 'DOLocationID=85', 'DOLocationID=86', 'DOLocationID=87', 'DOLocationID=88', 'DOLocationID=89', 'DOLocationID=9', 'DOLocationID=90', 'DOLocationID=91', 'DOLocationID=92', 'DOLocationID=93', 'DOLocationID=94', 'DOLocationID=95', 'DOLocationID=96', 'DOLocationID=97', 'DOLocationID=98', 'DOLocationID=99', 'PULocationID=1', 'PULocationID=10', 'PULocationID=100', 'PULocationID=101', 'PULocationID=102', 'PULocationID=106', 'PULocationID=107', 'PULocationID=108', 'PULocationID=109', 'PULocationID=11', 'PULocationID=111', 'PULocationID=112', 'PULocationID=113', 'PULocationID=114', 'PULocationID=115', 'PULocationID=116', 'PULocationID=117', 'PULocationID=118', 'PULocationID=119', 'PULocationID=12', 'PULocationID=120', 'PULocationID=121', 'PULocationID=122', 'PULocationID=123', 'PULocationID=124', 'PULocationID=125', 'PULocationID=126', 'PULocationID=127', 'PULocationID=128', 'PULocationID=129', 'PULocationID=13', 'PULocationID=130', 'PULocationID=131', 'PULocationID=132', 'PULocationID=133', 'PULocationID=134', 'PULocationID=135', 'PULocationID=136', 'PULocationID=137', 'PULocationID=138', 'PULocationID=139', 'PULocationID=14', 'PULocationID=140', 'PULocationID=141', 'PULocationID=142', 'PULocationID=143', 'PULocationID=144', 'PULocationID=145', 'PULocationID=146', 'PULocationID=147', 'PULocationID=148', 'PULocationID=149', 'PULocationID=15', 'PULocationID=150', 'PULocationID=151', 'PULocationID=152', 'PULocationID=153', 'PULocationID=154', 'PULocationID=155', 'PULocationID=156', 'PULocationID=157', 'PULocationID=158', 'PULocationID=159', 'PULocationID=16', 'PULocationID=160', 'PULocationID=161', 'PULocationID=162', 'PULocationID=163', 'PULocationID=164', 'PULocationID=165', 'PULocationID=166', 'PULocationID=167', 'PULocationID=168', 'PULocationID=169', 'PULocationID=17', 'PULocationID=170', 'PULocationID=171', 'PULocationID=172', 'PULocationID=173', 'PULocationID=174', 'PULocationID=175', 'PULocationID=177', 'PULocationID=178', 'PULocationID=179', 'PULocationID=18', 'PULocationID=180', 'PULocationID=181', 'PULocationID=182', 'PULocationID=183', 'PULocationID=184', 'PULocationID=185', 'PULocationID=186', 'PULocationID=187', 'PULocationID=188', 'PULocationID=189', 'PULocationID=19', 'PULocationID=190', 'PULocationID=191', 'PULocationID=192', 'PULocationID=193', 'PULocationID=194', 'PULocationID=195', 'PULocationID=196', 'PULocationID=197', 'PULocationID=198', 'PULocationID=199', 'PULocationID=2', 'PULocationID=20', 'PULocationID=200', 'PULocationID=201', 'PULocationID=202', 'PULocationID=203', 'PULocationID=205', 'PULocationID=206', 'PULocationID=207', 'PULocationID=208', 'PULocationID=209', 'PULocationID=21', 'PULocationID=210', 'PULocationID=211', 'PULocationID=212', 'PULocationID=213', 'PULocationID=214', 'PULocationID=215', 'PULocationID=216', 'PULocationID=217', 'PULocationID=218', 'PULocationID=219', 'PULocationID=22', 'PULocationID=220', 'PULocationID=221', 'PULocationID=222', 'PULocationID=223', 'PULocationID=224', 'PULocationID=225', 'PULocationID=226', 'PULocationID=227', 'PULocationID=228', 'PULocationID=229', 'PULocationID=23', 'PULocationID=230', 'PULocationID=231', 'PULocationID=232', 'PULocationID=233', 'PULocationID=234', 'PULocationID=235', 'PULocationID=236', 'PULocationID=237', 'PULocationID=238', 'PULocationID=239', 'PULocationID=24', 'PULocationID=240', 'PULocationID=241', 'PULocationID=242', 'PULocationID=243', 'PULocationID=244', 'PULocationID=245', 'PULocationID=246', 'PULocationID=247', 'PULocationID=248', 'PULocationID=249', 'PULocationID=25', 'PULocationID=250', 'PULocationID=251', 'PULocationID=252', 'PULocationID=253', 'PULocationID=254', 'PULocationID=255', 'PULocationID=256', 'PULocationID=257', 'PULocationID=258', 'PULocationID=259', 'PULocationID=26', 'PULocationID=260', 'PULocationID=261', 'PULocationID=262', 'PULocationID=263', 'PULocationID=264', 'PULocationID=265', 'PULocationID=28', 'PULocationID=29', 'PULocationID=3', 'PULocationID=30', 'PULocationID=31', 'PULocationID=32', 'PULocationID=33', 'PULocationID=34', 'PULocationID=35', 'PULocationID=36', 'PULocationID=37', 'PULocationID=38', 'PULocationID=39', 'PULocationID=4', 'PULocationID=40', 'PULocationID=41', 'PULocationID=42', 'PULocationID=43', 'PULocationID=44', 'PULocationID=45', 'PULocationID=46', 'PULocationID=47', 'PULocationID=48', 'PULocationID=49', 'PULocationID=5', 'PULocationID=50', 'PULocationID=51', 'PULocationID=52', 'PULocationID=53', 'PULocationID=54', 'PULocationID=55', 'PULocationID=56', 'PULocationID=57', 'PULocationID=58', 'PULocationID=6', 'PULocationID=60', 'PULocationID=61', 'PULocationID=62', 'PULocationID=63', 'PULocationID=64', 'PULocationID=65', 'PULocationID=66', 'PULocationID=67', 'PULocationID=68', 'PULocationID=69', 'PULocationID=7', 'PULocationID=70', 'PULocationID=71', 'PULocationID=72', 'PULocationID=73', 'PULocationID=74', 'PULocationID=75', 'PULocationID=76', 'PULocationID=77', 'PULocationID=78', 'PULocationID=79', 'PULocationID=8', 'PULocationID=80', 'PULocationID=81', 'PULocationID=82', 'PULocationID=83', 'PULocationID=85', 'PULocationID=86', 'PULocationID=87', 'PULocationID=88', 'PULocationID=89', 'PULocationID=9', 'PULocationID=90', 'PULocationID=91', 'PULocationID=92', 'PULocationID=93', 'PULocationID=94', 'PULocationID=95', 'PULocationID=96', 'PULocationID=97', 'PULocationID=98']\n"
     ]
    }
   ],
   "source": [
    "print(dv.feature_names_)"
   ]
  },
  {
   "cell_type": "code",
   "execution_count": 13,
   "id": "ff149269",
   "metadata": {},
   "outputs": [
    {
     "data": {
      "text/plain": [
       "array([ 8.43333333,  6.31666667, 12.75      , ..., 24.51666667,\n",
       "       13.        , 14.4       ], shape=(3009173,))"
      ]
     },
     "execution_count": 13,
     "metadata": {},
     "output_type": "execute_result"
    }
   ],
   "source": [
    "y_train = df.duration.values\n",
    "y_train"
   ]
  },
  {
   "cell_type": "code",
   "execution_count": 14,
   "id": "116ff0cc",
   "metadata": {},
   "outputs": [
    {
     "name": "stdout",
     "output_type": "stream",
     "text": [
      "rsme: 7.649\n",
      "sd: 5.409\n"
     ]
    }
   ],
   "source": [
    "lr = LinearRegression()\n",
    "lr.fit(X_train, y_train)\n",
    "\n",
    "y_pred = lr.predict(X_train)\n",
    "\n",
    "rsme = root_mean_squared_error(y_train, y_pred)\n",
    "\n",
    "sd = rsme/np.sqrt(2)\n",
    "\n",
    "print(f'rsme: {rsme:.3f}\\nsd: {sd:.3f}')\n"
   ]
  },
  {
   "cell_type": "code",
   "execution_count": 15,
   "id": "b134c97b",
   "metadata": {},
   "outputs": [
    {
     "name": "stderr",
     "output_type": "stream",
     "text": [
      "/var/folders/55/g997z85s50xbgykjv0llhnz80000gp/T/ipykernel_11428/1672306066.py:1: UserWarning: \n",
      "\n",
      "`distplot` is a deprecated function and will be removed in seaborn v0.14.0.\n",
      "\n",
      "Please adapt your code to use either `displot` (a figure-level function with\n",
      "similar flexibility) or `histplot` (an axes-level function for histograms).\n",
      "\n",
      "For a guide to updating your code to use the new functions, please see\n",
      "https://gist.github.com/mwaskom/de44147ed2974457ad6372750bbe5751\n",
      "\n",
      "  sns.distplot(y_pred, label='prediction')\n",
      "/var/folders/55/g997z85s50xbgykjv0llhnz80000gp/T/ipykernel_11428/1672306066.py:2: UserWarning: \n",
      "\n",
      "`distplot` is a deprecated function and will be removed in seaborn v0.14.0.\n",
      "\n",
      "Please adapt your code to use either `displot` (a figure-level function with\n",
      "similar flexibility) or `histplot` (an axes-level function for histograms).\n",
      "\n",
      "For a guide to updating your code to use the new functions, please see\n",
      "https://gist.github.com/mwaskom/de44147ed2974457ad6372750bbe5751\n",
      "\n",
      "  sns.distplot(y_train, label='actual')\n"
     ]
    },
    {
     "data": {
      "text/plain": [
       "<matplotlib.legend.Legend at 0x1621ac620>"
      ]
     },
     "execution_count": 15,
     "metadata": {},
     "output_type": "execute_result"
    },
    {
     "data": {
      "image/png": "[encoded data removed]",
      "text/plain": [
       "<Figure size 640x480 with 1 Axes>"
      ]
     },
     "metadata": {},
     "output_type": "display_data"
    }
   ],
   "source": [
    "sns.distplot(y_pred, label='prediction')\n",
    "sns.distplot(y_train, label='actual')\n",
    "\n",
    "plt.legend()"
   ]
  },
  {
   "cell_type": "code",
   "execution_count": 16,
   "id": "f6f2f0eb",
   "metadata": {},
   "outputs": [],
   "source": [
    "df_val = pd.read_parquet('./data/yellow_tripdata_2023-02.parquet')\n"
   ]
  },
  {
   "cell_type": "code",
   "execution_count": 17,
   "id": "db31cc58",
   "metadata": {},
   "outputs": [],
   "source": [
    "df_val['duration'] = df_val.tpep_dropoff_datetime - df_val.tpep_pickup_datetime\n",
    "df_val['duration'] = df_val.duration.apply(lambda t: t.total_seconds()/60)\n",
    "\n",
    "df_val = df_val[(df_val.duration >= 1) & (df_val.duration <= 60)]"
   ]
  },
  {
   "cell_type": "markdown",
   "id": "fa769139",
   "metadata": {},
   "source": [
    "> Have to reshape the training and validation sets for training, otherwise y'all get the error:\n",
    "ValueError: X has 519 features, but LinearRegression is expecting 515 features as input.\n"
   ]
  },
  {
   "cell_type": "code",
   "execution_count": 18,
   "id": "7ae5f0a1",
   "metadata": {},
   "outputs": [],
   "source": [
    "df_val.PULocationID = df_val.PULocationID.apply(str)\n",
    "df_val.DOLocationID = df_val.DOLocationID.apply(str)"
   ]
  },
  {
   "cell_type": "code",
   "execution_count": 27,
   "id": "c5cbfc25",
   "metadata": {},
   "outputs": [],
   "source": [
    "# categorical = ['PULocationID', 'DOLocationID']\n",
    "# dv = DictVectorizer()\n",
    "# val_dicts = df_val[categorical].to_dict(orient='records')\n",
    "\n",
    "# X_val = dv.fit_transform(val_dicts)\n",
    "\n",
    "df['PU_DO'] = df['PULocationID'] + '_' + df['DOLocationID']\n",
    "df_val['PU_DO'] = df_val['PULocationID'] + '_' + df_val['DOLocationID']\n",
    "\n",
    "categorical = ['PULocationID', 'DOLocationID'] #['PU_DO'] #['PULocationID', 'DOLocationID'] # #\n",
    "numerical = ['trip_distance']\n",
    "\n",
    "dv = DictVectorizer()\n",
    "\n",
    "train_dicts = df[categorical].to_dict(orient='records')\n",
    "X_train = dv.fit_transform(train_dicts)\n",
    "\n",
    "val_dicts = df_val[categorical].to_dict(orient='records')\n",
    "X_val = dv.transform(val_dicts)"
   ]
  },
  {
   "cell_type": "code",
   "execution_count": 28,
   "id": "c6f9c91c",
   "metadata": {},
   "outputs": [
    {
     "name": "stdout",
     "output_type": "stream",
     "text": [
      "(3009173, 515)\n",
      "(2855951, 515)\n"
     ]
    }
   ],
   "source": [
    "print(X_train.shape)\n",
    "print(X_val.shape)"
   ]
  },
  {
   "cell_type": "code",
   "execution_count": 29,
   "id": "1e9fb68b",
   "metadata": {},
   "outputs": [],
   "source": [
    "target = 'duration'\n",
    "y_val = df_val[target].values"
   ]
  },
  {
   "cell_type": "code",
   "execution_count": 31,
   "id": "429e2394",
   "metadata": {},
   "outputs": [
    {
     "name": "stdout",
     "output_type": "stream",
     "text": [
      "rsme: 7.811818743246608\n",
      "std. dev: 5.5237900067498495\n"
     ]
    }
   ],
   "source": [
    "lr2 = LinearRegression()\n",
    "lr2.fit(X_train, y_train)\n",
    "\n",
    "y_val_pred = lr2.predict(X_val)\n",
    "\n",
    "rsme = root_mean_squared_error(y_val, y_val_pred)\n",
    "\n",
    "sd = rsme / np.sqrt(2)\n",
    "\n",
    "print(f'rsme: {rsme}\\nstd. dev: {sd}')"
   ]
  }
 ],
 "metadata": {
  "kernelspec": {
   "display_name": ".venv",
   "language": "python",
   "name": "python3"
  },
  "language_info": {
   "codemirror_mode": {
    "name": "ipython",
    "version": 3
   },
   "file_extension": ".py",
   "mimetype": "text/x-python",
   "name": "python",
   "nbconvert_exporter": "python",
   "pygments_lexer": "ipython3",
   "version": "3.12.9"
  }
 },
 "nbformat": 4,
 "nbformat_minor": 5
}
